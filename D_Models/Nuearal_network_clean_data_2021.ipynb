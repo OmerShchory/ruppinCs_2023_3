{
 "cells": [
  {
   "cell_type": "code",
   "execution_count": 1,
   "id": "43767c81",
   "metadata": {},
   "outputs": [],
   "source": [
    "import pandas as pd\n",
    "import tensorflow as tf\n",
    "from tensorflow.keras import layers\n",
    "from sklearn.preprocessing import StandardScaler\n",
    "from sklearn.model_selection import train_test_split\n",
    "import tensorflow as tf\n",
    "from tensorflow.keras import layers\n",
    "import matplotlib.pyplot as plt\n"
   ]
  },
  {
   "cell_type": "code",
   "execution_count": 2,
   "id": "a8fad656",
   "metadata": {},
   "outputs": [],
   "source": [
    " data = pd.read_csv(\"Data/Clean_Data_2021_server.csv\")\n"
   ]
  },
  {
   "cell_type": "code",
   "execution_count": 3,
   "id": "232ed53f",
   "metadata": {},
   "outputs": [
    {
     "data": {
      "text/html": [
       "<div>\n",
       "<style scoped>\n",
       "    .dataframe tbody tr th:only-of-type {\n",
       "        vertical-align: middle;\n",
       "    }\n",
       "\n",
       "    .dataframe tbody tr th {\n",
       "        vertical-align: top;\n",
       "    }\n",
       "\n",
       "    .dataframe thead th {\n",
       "        text-align: right;\n",
       "    }\n",
       "</style>\n",
       "<table border=\"1\" class=\"dataframe\">\n",
       "  <thead>\n",
       "    <tr style=\"text-align: right;\">\n",
       "      <th></th>\n",
       "      <th>dob_yy</th>\n",
       "      <th>dob_mm</th>\n",
       "      <th>dob_tt</th>\n",
       "      <th>dob_wk</th>\n",
       "      <th>bfacil</th>\n",
       "      <th>mager</th>\n",
       "      <th>mbstate_rec</th>\n",
       "      <th>mrace31</th>\n",
       "      <th>mrace15</th>\n",
       "      <th>mhispx</th>\n",
       "      <th>...</th>\n",
       "      <th>ca_gast</th>\n",
       "      <th>ca_limb</th>\n",
       "      <th>ca_cleft</th>\n",
       "      <th>ca_clpal</th>\n",
       "      <th>ca_downs</th>\n",
       "      <th>ca_disor</th>\n",
       "      <th>ca_hypo</th>\n",
       "      <th>itran</th>\n",
       "      <th>ilive</th>\n",
       "      <th>bfed</th>\n",
       "    </tr>\n",
       "  </thead>\n",
       "  <tbody>\n",
       "    <tr>\n",
       "      <th>0</th>\n",
       "      <td>2021</td>\n",
       "      <td>1</td>\n",
       "      <td>636.0</td>\n",
       "      <td>7</td>\n",
       "      <td>1.0</td>\n",
       "      <td>22</td>\n",
       "      <td>1.0</td>\n",
       "      <td>1</td>\n",
       "      <td>1</td>\n",
       "      <td>4</td>\n",
       "      <td>...</td>\n",
       "      <td>0.0</td>\n",
       "      <td>0.0</td>\n",
       "      <td>0.0</td>\n",
       "      <td>0.0</td>\n",
       "      <td>0.0</td>\n",
       "      <td>0.0</td>\n",
       "      <td>0.0</td>\n",
       "      <td>0.0</td>\n",
       "      <td>1.0</td>\n",
       "      <td>1.0</td>\n",
       "    </tr>\n",
       "    <tr>\n",
       "      <th>1</th>\n",
       "      <td>2021</td>\n",
       "      <td>1</td>\n",
       "      <td>259.0</td>\n",
       "      <td>7</td>\n",
       "      <td>1.0</td>\n",
       "      <td>31</td>\n",
       "      <td>1.0</td>\n",
       "      <td>22</td>\n",
       "      <td>15</td>\n",
       "      <td>0</td>\n",
       "      <td>...</td>\n",
       "      <td>0.0</td>\n",
       "      <td>0.0</td>\n",
       "      <td>0.0</td>\n",
       "      <td>0.0</td>\n",
       "      <td>0.0</td>\n",
       "      <td>0.0</td>\n",
       "      <td>0.0</td>\n",
       "      <td>0.0</td>\n",
       "      <td>1.0</td>\n",
       "      <td>1.0</td>\n",
       "    </tr>\n",
       "    <tr>\n",
       "      <th>2</th>\n",
       "      <td>2021</td>\n",
       "      <td>1</td>\n",
       "      <td>223.0</td>\n",
       "      <td>1</td>\n",
       "      <td>1.0</td>\n",
       "      <td>29</td>\n",
       "      <td>1.0</td>\n",
       "      <td>1</td>\n",
       "      <td>1</td>\n",
       "      <td>0</td>\n",
       "      <td>...</td>\n",
       "      <td>0.0</td>\n",
       "      <td>0.0</td>\n",
       "      <td>0.0</td>\n",
       "      <td>0.0</td>\n",
       "      <td>0.0</td>\n",
       "      <td>0.0</td>\n",
       "      <td>0.0</td>\n",
       "      <td>0.0</td>\n",
       "      <td>1.0</td>\n",
       "      <td>1.0</td>\n",
       "    </tr>\n",
       "    <tr>\n",
       "      <th>3</th>\n",
       "      <td>2021</td>\n",
       "      <td>1</td>\n",
       "      <td>241.0</td>\n",
       "      <td>1</td>\n",
       "      <td>1.0</td>\n",
       "      <td>39</td>\n",
       "      <td>1.0</td>\n",
       "      <td>1</td>\n",
       "      <td>1</td>\n",
       "      <td>3</td>\n",
       "      <td>...</td>\n",
       "      <td>0.0</td>\n",
       "      <td>0.0</td>\n",
       "      <td>0.0</td>\n",
       "      <td>0.0</td>\n",
       "      <td>0.0</td>\n",
       "      <td>0.0</td>\n",
       "      <td>0.0</td>\n",
       "      <td>0.0</td>\n",
       "      <td>1.0</td>\n",
       "      <td>1.0</td>\n",
       "    </tr>\n",
       "    <tr>\n",
       "      <th>4</th>\n",
       "      <td>2021</td>\n",
       "      <td>1</td>\n",
       "      <td>503.0</td>\n",
       "      <td>1</td>\n",
       "      <td>1.0</td>\n",
       "      <td>20</td>\n",
       "      <td>2.0</td>\n",
       "      <td>5</td>\n",
       "      <td>13</td>\n",
       "      <td>0</td>\n",
       "      <td>...</td>\n",
       "      <td>0.0</td>\n",
       "      <td>0.0</td>\n",
       "      <td>0.0</td>\n",
       "      <td>0.0</td>\n",
       "      <td>0.0</td>\n",
       "      <td>0.0</td>\n",
       "      <td>0.0</td>\n",
       "      <td>0.0</td>\n",
       "      <td>1.0</td>\n",
       "      <td>0.0</td>\n",
       "    </tr>\n",
       "    <tr>\n",
       "      <th>...</th>\n",
       "      <td>...</td>\n",
       "      <td>...</td>\n",
       "      <td>...</td>\n",
       "      <td>...</td>\n",
       "      <td>...</td>\n",
       "      <td>...</td>\n",
       "      <td>...</td>\n",
       "      <td>...</td>\n",
       "      <td>...</td>\n",
       "      <td>...</td>\n",
       "      <td>...</td>\n",
       "      <td>...</td>\n",
       "      <td>...</td>\n",
       "      <td>...</td>\n",
       "      <td>...</td>\n",
       "      <td>...</td>\n",
       "      <td>...</td>\n",
       "      <td>...</td>\n",
       "      <td>...</td>\n",
       "      <td>...</td>\n",
       "      <td>...</td>\n",
       "    </tr>\n",
       "    <tr>\n",
       "      <th>3665587</th>\n",
       "      <td>2021</td>\n",
       "      <td>12</td>\n",
       "      <td>1714.0</td>\n",
       "      <td>1</td>\n",
       "      <td>1.0</td>\n",
       "      <td>38</td>\n",
       "      <td>1.0</td>\n",
       "      <td>10</td>\n",
       "      <td>15</td>\n",
       "      <td>0</td>\n",
       "      <td>...</td>\n",
       "      <td>0.0</td>\n",
       "      <td>0.0</td>\n",
       "      <td>0.0</td>\n",
       "      <td>0.0</td>\n",
       "      <td>0.0</td>\n",
       "      <td>0.0</td>\n",
       "      <td>0.0</td>\n",
       "      <td>0.0</td>\n",
       "      <td>1.0</td>\n",
       "      <td>1.0</td>\n",
       "    </tr>\n",
       "    <tr>\n",
       "      <th>3665588</th>\n",
       "      <td>2021</td>\n",
       "      <td>11</td>\n",
       "      <td>1700.0</td>\n",
       "      <td>7</td>\n",
       "      <td>7.0</td>\n",
       "      <td>34</td>\n",
       "      <td>1.0</td>\n",
       "      <td>2</td>\n",
       "      <td>2</td>\n",
       "      <td>0</td>\n",
       "      <td>...</td>\n",
       "      <td>0.0</td>\n",
       "      <td>0.0</td>\n",
       "      <td>0.0</td>\n",
       "      <td>0.0</td>\n",
       "      <td>0.0</td>\n",
       "      <td>0.0</td>\n",
       "      <td>0.0</td>\n",
       "      <td>0.0</td>\n",
       "      <td>1.0</td>\n",
       "      <td>0.0</td>\n",
       "    </tr>\n",
       "    <tr>\n",
       "      <th>3665589</th>\n",
       "      <td>2021</td>\n",
       "      <td>12</td>\n",
       "      <td>1901.0</td>\n",
       "      <td>6</td>\n",
       "      <td>3.0</td>\n",
       "      <td>35</td>\n",
       "      <td>1.0</td>\n",
       "      <td>13</td>\n",
       "      <td>15</td>\n",
       "      <td>0</td>\n",
       "      <td>...</td>\n",
       "      <td>0.0</td>\n",
       "      <td>0.0</td>\n",
       "      <td>0.0</td>\n",
       "      <td>0.0</td>\n",
       "      <td>0.0</td>\n",
       "      <td>0.0</td>\n",
       "      <td>0.0</td>\n",
       "      <td>1.0</td>\n",
       "      <td>1.0</td>\n",
       "      <td>1.0</td>\n",
       "    </tr>\n",
       "    <tr>\n",
       "      <th>3665590</th>\n",
       "      <td>2021</td>\n",
       "      <td>12</td>\n",
       "      <td>242.0</td>\n",
       "      <td>7</td>\n",
       "      <td>1.0</td>\n",
       "      <td>36</td>\n",
       "      <td>1.0</td>\n",
       "      <td>1</td>\n",
       "      <td>1</td>\n",
       "      <td>0</td>\n",
       "      <td>...</td>\n",
       "      <td>0.0</td>\n",
       "      <td>0.0</td>\n",
       "      <td>0.0</td>\n",
       "      <td>0.0</td>\n",
       "      <td>0.0</td>\n",
       "      <td>0.0</td>\n",
       "      <td>0.0</td>\n",
       "      <td>0.0</td>\n",
       "      <td>1.0</td>\n",
       "      <td>1.0</td>\n",
       "    </tr>\n",
       "    <tr>\n",
       "      <th>3665591</th>\n",
       "      <td>2021</td>\n",
       "      <td>6</td>\n",
       "      <td>2146.0</td>\n",
       "      <td>6</td>\n",
       "      <td>3.0</td>\n",
       "      <td>27</td>\n",
       "      <td>1.0</td>\n",
       "      <td>2</td>\n",
       "      <td>2</td>\n",
       "      <td>0</td>\n",
       "      <td>...</td>\n",
       "      <td>0.0</td>\n",
       "      <td>0.0</td>\n",
       "      <td>0.0</td>\n",
       "      <td>0.0</td>\n",
       "      <td>0.0</td>\n",
       "      <td>0.0</td>\n",
       "      <td>0.0</td>\n",
       "      <td>0.0</td>\n",
       "      <td>1.0</td>\n",
       "      <td>1.0</td>\n",
       "    </tr>\n",
       "  </tbody>\n",
       "</table>\n",
       "<p>3665592 rows × 96 columns</p>\n",
       "</div>"
      ],
      "text/plain": [
       "         dob_yy  dob_mm  dob_tt  dob_wk  bfacil  mager  mbstate_rec  mrace31  \\\n",
       "0          2021       1   636.0       7     1.0     22          1.0        1   \n",
       "1          2021       1   259.0       7     1.0     31          1.0       22   \n",
       "2          2021       1   223.0       1     1.0     29          1.0        1   \n",
       "3          2021       1   241.0       1     1.0     39          1.0        1   \n",
       "4          2021       1   503.0       1     1.0     20          2.0        5   \n",
       "...         ...     ...     ...     ...     ...    ...          ...      ...   \n",
       "3665587    2021      12  1714.0       1     1.0     38          1.0       10   \n",
       "3665588    2021      11  1700.0       7     7.0     34          1.0        2   \n",
       "3665589    2021      12  1901.0       6     3.0     35          1.0       13   \n",
       "3665590    2021      12   242.0       7     1.0     36          1.0        1   \n",
       "3665591    2021       6  2146.0       6     3.0     27          1.0        2   \n",
       "\n",
       "         mrace15  mhispx  ...  ca_gast  ca_limb  ca_cleft  ca_clpal  ca_downs  \\\n",
       "0              1       4  ...      0.0      0.0       0.0       0.0       0.0   \n",
       "1             15       0  ...      0.0      0.0       0.0       0.0       0.0   \n",
       "2              1       0  ...      0.0      0.0       0.0       0.0       0.0   \n",
       "3              1       3  ...      0.0      0.0       0.0       0.0       0.0   \n",
       "4             13       0  ...      0.0      0.0       0.0       0.0       0.0   \n",
       "...          ...     ...  ...      ...      ...       ...       ...       ...   \n",
       "3665587       15       0  ...      0.0      0.0       0.0       0.0       0.0   \n",
       "3665588        2       0  ...      0.0      0.0       0.0       0.0       0.0   \n",
       "3665589       15       0  ...      0.0      0.0       0.0       0.0       0.0   \n",
       "3665590        1       0  ...      0.0      0.0       0.0       0.0       0.0   \n",
       "3665591        2       0  ...      0.0      0.0       0.0       0.0       0.0   \n",
       "\n",
       "         ca_disor  ca_hypo  itran  ilive  bfed  \n",
       "0             0.0      0.0    0.0    1.0   1.0  \n",
       "1             0.0      0.0    0.0    1.0   1.0  \n",
       "2             0.0      0.0    0.0    1.0   1.0  \n",
       "3             0.0      0.0    0.0    1.0   1.0  \n",
       "4             0.0      0.0    0.0    1.0   0.0  \n",
       "...           ...      ...    ...    ...   ...  \n",
       "3665587       0.0      0.0    0.0    1.0   1.0  \n",
       "3665588       0.0      0.0    0.0    1.0   0.0  \n",
       "3665589       0.0      0.0    1.0    1.0   1.0  \n",
       "3665590       0.0      0.0    0.0    1.0   1.0  \n",
       "3665591       0.0      0.0    0.0    1.0   1.0  \n",
       "\n",
       "[3665592 rows x 96 columns]"
      ]
     },
     "execution_count": 3,
     "metadata": {},
     "output_type": "execute_result"
    }
   ],
   "source": [
    "data"
   ]
  },
  {
   "cell_type": "code",
   "execution_count": 8,
   "id": "54de0bba",
   "metadata": {},
   "outputs": [
    {
     "name": "stdout",
     "output_type": "stream",
     "text": [
      "<class 'pandas.core.frame.DataFrame'>\n",
      "RangeIndex: 3665592 entries, 0 to 3665591\n",
      "Data columns (total 96 columns):\n",
      " #   Column       Dtype  \n",
      "---  ------       -----  \n",
      " 0   dob_yy       int64  \n",
      " 1   dob_mm       int64  \n",
      " 2   dob_tt       float64\n",
      " 3   dob_wk       int64  \n",
      " 4   bfacil       float64\n",
      " 5   mager        int64  \n",
      " 6   mbstate_rec  float64\n",
      " 7   mrace31      int64  \n",
      " 8   mrace15      int64  \n",
      " 9   mhispx       int64  \n",
      " 10  dmar         int64  \n",
      " 11  meduc        float64\n",
      " 12  fagecomb     float64\n",
      " 13  frace31      float64\n",
      " 14  frace15      float64\n",
      " 15  fhispx       int64  \n",
      " 16  feduc        float64\n",
      " 17  priorlive    float64\n",
      " 18  priordead    float64\n",
      " 19  priorterm    float64\n",
      " 20  lbo_rec      float64\n",
      " 21  tbo_rec      float64\n",
      " 22  illb_r11     float64\n",
      " 23  ilop_r11     float64\n",
      " 24  ilp_r11      float64\n",
      " 25  precare      float64\n",
      " 26  previs       float64\n",
      " 27  cig_0        float64\n",
      " 28  cig_1        float64\n",
      " 29  cig_2        float64\n",
      " 30  cig_3        float64\n",
      " 31  m_ht_in      int64  \n",
      " 32  bmi          float64\n",
      " 33  pwgt_r       int64  \n",
      " 34  dwgt_r       int64  \n",
      " 35  wtgain       float64\n",
      " 36  rf_pdiab     float64\n",
      " 37  rf_gdiab     float64\n",
      " 38  rf_phype     float64\n",
      " 39  rf_ghype     float64\n",
      " 40  rf_ehype     float64\n",
      " 41  rf_ppterm    float64\n",
      " 42  rf_inftr     float64\n",
      " 43  rf_cesarn    float64\n",
      " 44  ip_gon       float64\n",
      " 45  ip_syph      float64\n",
      " 46  ip_chlam     float64\n",
      " 47  ip_hepatb    float64\n",
      " 48  ip_hepatc    float64\n",
      " 49  ob_ecvs      float64\n",
      " 50  ob_ecvf      float64\n",
      " 51  ld_indl      float64\n",
      " 52  ld_augm      float64\n",
      " 53  ld_ster      float64\n",
      " 54  ld_antb      float64\n",
      " 55  ld_chor      float64\n",
      " 56  ld_anes      float64\n",
      " 57  me_pres      float64\n",
      " 58  me_rout      float64\n",
      " 59  rdmeth_rec   float64\n",
      " 60  mm_mtr       float64\n",
      " 61  mm_plac      float64\n",
      " 62  mm_rupt      float64\n",
      " 63  mm_uhyst     float64\n",
      " 64  mm_aicu      float64\n",
      " 65  attend       float64\n",
      " 66  mtran        float64\n",
      " 67  pay          float64\n",
      " 68  apgar5       float64\n",
      " 69  dplural      int64  \n",
      " 70  sex          int64  \n",
      " 71  dlmp_yy      float64\n",
      " 72  combgest     float64\n",
      " 73  oegest_comb  float64\n",
      " 74  dbwt         float64\n",
      " 75  ab_aven1     float64\n",
      " 76  ab_aven6     float64\n",
      " 77  ab_nicu      float64\n",
      " 78  ab_surf      float64\n",
      " 79  ab_anti      float64\n",
      " 80  ab_seiz      float64\n",
      " 81  ca_anen      float64\n",
      " 82  ca_mnsb      float64\n",
      " 83  ca_cchd      float64\n",
      " 84  ca_cdh       float64\n",
      " 85  ca_omph      float64\n",
      " 86  ca_gast      float64\n",
      " 87  ca_limb      float64\n",
      " 88  ca_cleft     float64\n",
      " 89  ca_clpal     float64\n",
      " 90  ca_downs     float64\n",
      " 91  ca_disor     float64\n",
      " 92  ca_hypo      float64\n",
      " 93  itran        float64\n",
      " 94  ilive        float64\n",
      " 95  bfed         float64\n",
      "dtypes: float64(82), int64(14)\n",
      "memory usage: 2.6 GB\n"
     ]
    }
   ],
   "source": [
    "data.info()"
   ]
  },
  {
   "cell_type": "code",
   "execution_count": 9,
   "id": "dafa1583",
   "metadata": {},
   "outputs": [],
   "source": [
    "# sampled_data = data.sample(n=300000, random_state=42)\n"
   ]
  },
  {
   "cell_type": "code",
   "execution_count": 4,
   "id": "52868ab7",
   "metadata": {},
   "outputs": [
    {
     "name": "stdout",
     "output_type": "stream",
     "text": [
      "Num GPUs: 0\n"
     ]
    }
   ],
   "source": [
    "physical_devices = tf.config.list_physical_devices('GPU')\n",
    "print(\"Num GPUs:\", len(physical_devices))"
   ]
  },
  {
   "cell_type": "code",
   "execution_count": 5,
   "id": "46f42286",
   "metadata": {},
   "outputs": [
    {
     "name": "stdout",
     "output_type": "stream",
     "text": [
      "No GPU is available.\n"
     ]
    }
   ],
   "source": [
    "physical_devices = tf.config.list_physical_devices('GPU')\n",
    "if physical_devices:\n",
    "    tf.config.set_visible_devices(physical_devices[0], 'GPU')\n",
    "    tf.config.experimental.set_memory_growth(physical_devices[0], True)\n",
    "    print(\"GPU is being used.\")\n",
    "else:\n",
    "    print(\"No GPU is available.\")"
   ]
  },
  {
   "cell_type": "code",
   "execution_count": 12,
   "id": "0c090b32",
   "metadata": {},
   "outputs": [
    {
     "name": "stdout",
     "output_type": "stream",
     "text": [
      "Wed May 24 14:08:41 2023       \n",
      "+-----------------------------------------------------------------------------+\n",
      "| NVIDIA-SMI 520.61.05    Driver Version: 520.61.05    CUDA Version: 11.8     |\n",
      "|-------------------------------+----------------------+----------------------+\n",
      "| GPU  Name        Persistence-M| Bus-Id        Disp.A | Volatile Uncorr. ECC |\n",
      "| Fan  Temp  Perf  Pwr:Usage/Cap|         Memory-Usage | GPU-Util  Compute M. |\n",
      "|                               |                      |               MIG M. |\n",
      "|===============================+======================+======================|\n",
      "|   0  NVIDIA A100-PCI...  On   | 00000000:37:00.0 Off |                    0 |\n",
      "| N/A   74C    P0    54W / 250W |  39556MiB / 40960MiB |      0%      Default |\n",
      "|                               |                      |             Disabled |\n",
      "+-------------------------------+----------------------+----------------------+\n",
      "                                                                               \n",
      "+-----------------------------------------------------------------------------+\n",
      "| Processes:                                                                  |\n",
      "|  GPU   GI   CI        PID   Type   Process name                  GPU Memory |\n",
      "|        ID   ID                                                   Usage      |\n",
      "|=============================================================================|\n",
      "|    0   N/A  N/A     24130      C   ...tai.hasid/venv/bin/python    39554MiB |\n",
      "+-----------------------------------------------------------------------------+\n"
     ]
    }
   ],
   "source": [
    "!nvidia-smi"
   ]
  },
  {
   "cell_type": "code",
   "execution_count": 13,
   "id": "36659b01",
   "metadata": {},
   "outputs": [],
   "source": [
    "# data = sampled_data"
   ]
  },
  {
   "cell_type": "code",
   "execution_count": 6,
   "id": "19e8bb13",
   "metadata": {},
   "outputs": [],
   "source": [
    "# Drop rows with missing values\n",
    "data.dropna(inplace=True)\n",
    "\n",
    "# Split the data into input (X) and output (y) variables\n",
    "X = data.drop(['apgar5'], axis=1)\n",
    "y = data['apgar5']\n",
    "\n",
    "\n",
    "# Convert categorical variables into numerical values\n",
    "X = pd.get_dummies(X)\n",
    "\n",
    "# Normalize numerical variables\n",
    "scaler = StandardScaler()\n",
    "for col in X.columns:\n",
    "    if X[col].dtype == 'float64' or X[col].dtype == 'int64':\n",
    "        X[col] = scaler.fit_transform(X[[col]])\n",
    "\n",
    "\n"
   ]
  },
  {
   "cell_type": "code",
   "execution_count": 9,
   "id": "32f20dcc",
   "metadata": {},
   "outputs": [],
   "source": [
    "from sklearn.model_selection import train_test_split\n",
    "\n",
    "# Split the data into training and validation sets\n",
    "X_train, X_val, y_train, y_val = train_test_split(X, y, test_size=0.2, random_state=42)\n"
   ]
  },
  {
   "cell_type": "code",
   "execution_count": 43,
   "id": "28ca96f6",
   "metadata": {},
   "outputs": [],
   "source": [
    "#Basoc model:"
   ]
  },
  {
   "cell_type": "code",
   "execution_count": 10,
   "id": "725c96a7",
   "metadata": {},
   "outputs": [
    {
     "name": "stdout",
     "output_type": "stream",
     "text": [
      "Model: \"sequential\"\n",
      "_________________________________________________________________\n",
      "Layer (type)                 Output Shape              Param #   \n",
      "=================================================================\n",
      "dense (Dense)                (None, 64)                6144      \n",
      "_________________________________________________________________\n",
      "dense_1 (Dense)              (None, 64)                4160      \n",
      "_________________________________________________________________\n",
      "dense_2 (Dense)              (None, 1)                 65        \n",
      "=================================================================\n",
      "Total params: 10,369\n",
      "Trainable params: 10,369\n",
      "Non-trainable params: 0\n",
      "_________________________________________________________________\n"
     ]
    }
   ],
   "source": [
    "# Define the model architecture\n",
    "model = tf.keras.Sequential([\n",
    "    layers.Dense(64, activation='relu', input_shape=(X_train.shape[1],)),\n",
    "    layers.Dense(64, activation='relu'),\n",
    "    layers.Dense(1, activation='linear')\n",
    "])\n",
    "model.summary()\n"
   ]
  },
  {
   "cell_type": "code",
   "execution_count": 12,
   "id": "0bd8f1f5",
   "metadata": {
    "scrolled": true
   },
   "outputs": [
    {
     "name": "stdout",
     "output_type": "stream",
     "text": [
      "Epoch 1/10\n",
      "52720/52720 [==============================] - 78s 1ms/step - loss: 0.4178 - val_loss: 0.4143\n",
      "Epoch 2/10\n",
      "52720/52720 [==============================] - 77s 1ms/step - loss: 0.4162 - val_loss: 0.4194\n",
      "Epoch 3/10\n",
      "52720/52720 [==============================] - 77s 1ms/step - loss: 0.4150 - val_loss: 0.4126\n",
      "Epoch 4/10\n",
      "52720/52720 [==============================] - 79s 2ms/step - loss: 0.4144 - val_loss: 0.4125\n",
      "Epoch 5/10\n",
      "52720/52720 [==============================] - 81s 2ms/step - loss: 0.4139 - val_loss: 0.4161\n",
      "Epoch 6/10\n",
      "52720/52720 [==============================] - 83s 2ms/step - loss: 0.4132 - val_loss: 0.4117\n",
      "Epoch 7/10\n",
      "52720/52720 [==============================] - 81s 2ms/step - loss: 0.4129 - val_loss: 0.4126\n",
      "Epoch 8/10\n",
      "52720/52720 [==============================] - 81s 2ms/step - loss: 0.4122 - val_loss: 0.4113\n",
      "Epoch 9/10\n",
      "52720/52720 [==============================] - 82s 2ms/step - loss: 0.4118 - val_loss: 0.4134\n",
      "Epoch 10/10\n",
      "52720/52720 [==============================] - 80s 2ms/step - loss: 0.4116 - val_loss: 0.4118\n"
     ]
    }
   ],
   "source": [
    "# Compile the model\n",
    "model.compile(optimizer='adam', loss='mean_squared_error')  # Use appropriate optimizer and loss function\n",
    "\n",
    "# Train the model\n",
    "history = model.fit(X_train, y_train, epochs=10, batch_size=32,validation_data=(X_val, y_val))  # Replace X_train and y_train with your training data\n",
    "\n",
    "\n",
    "# Further post-processing or analysis as needed"
   ]
  },
  {
   "cell_type": "code",
   "execution_count": 19,
   "id": "9da6b124",
   "metadata": {},
   "outputs": [],
   "source": [
    "# Make predictions\n",
    "predictions = model.predict(X)  # Replace X_new with new data to predict Apgar scores"
   ]
  },
  {
   "cell_type": "code",
   "execution_count": 21,
   "id": "5dab99cf",
   "metadata": {},
   "outputs": [],
   "source": [
    "import numpy as np"
   ]
  },
  {
   "cell_type": "code",
   "execution_count": 22,
   "id": "1738a34e",
   "metadata": {},
   "outputs": [
    {
     "name": "stdout",
     "output_type": "stream",
     "text": [
      "Mean Squared Error: 0.41\n",
      "R-squared Score: 0.20\n",
      "Explained Variance Score: 0.20\n",
      "Target function Std: 0.72\n"
     ]
    }
   ],
   "source": [
    "# Compute additional evaluation metrics\n",
    "from sklearn.metrics import mean_squared_error, r2_score, explained_variance_score\n",
    "\n",
    "# Calculate mean squared error (MSE)\n",
    "mse = mean_squared_error(y, predictions)\n",
    "\n",
    "# Calculate R-squared score\n",
    "r2 = r2_score(y, predictions)\n",
    "\n",
    "# Calculate explained variance score\n",
    "explained_variance = explained_variance_score(y, predictions)\n",
    "\n",
    "std = np.std(y)\n",
    "\n",
    "# Print the additional evaluation metrics\n",
    "print(f\"Mean Squared Error: {mse:.2f}\")\n",
    "print(f\"R-squared Score: {r2:.2f}\")\n",
    "print(f\"Explained Variance Score: {explained_variance:.2f}\")\n",
    "print(f\"Target function Std: {std:.2f}\")\n"
   ]
  },
  {
   "cell_type": "code",
   "execution_count": 23,
   "id": "b59a3fd2",
   "metadata": {},
   "outputs": [
    {
     "data": {
      "image/png": "[encoded data removed]",
      "text/plain": [
       "<Figure size 576x432 with 1 Axes>"
      ]
     },
     "metadata": {
      "needs_background": "light"
     },
     "output_type": "display_data"
    }
   ],
   "source": [
    "import matplotlib.pyplot as plt\n",
    "\n",
    "# Get the training and validation loss from the history object\n",
    "train_loss = history.history['loss']\n",
    "val_loss = history.history['val_loss']\n",
    "epochs = range(1, len(train_loss) + 1)\n",
    "\n",
    "# Set the figure size to 8 inches wide and 6 inches tall\n",
    "plt.figure(figsize=(8, 6))\n",
    "\n",
    "# Plot the training and validation loss\n",
    "plt.plot(epochs, train_loss, label=\"Training loss\")\n",
    "plt.plot(epochs, val_loss, label=\"Validation loss\")\n",
    "plt.title(\"Training and Validation Loss\")\n",
    "plt.xlabel(\"Epochs\")\n",
    "plt.ylabel(\"Loss\")\n",
    "plt.legend()\n",
    "plt.show()\n"
   ]
  },
  {
   "cell_type": "code",
   "execution_count": null,
   "id": "573ae6eb",
   "metadata": {},
   "outputs": [],
   "source": [
    "#second model - cahnging model architecture"
   ]
  },
  {
   "cell_type": "code",
   "execution_count": 25,
   "id": "6fdbb33f",
   "metadata": {},
   "outputs": [
    {
     "name": "stdout",
     "output_type": "stream",
     "text": [
      "Model: \"sequential_2\"\n",
      "_________________________________________________________________\n",
      "Layer (type)                 Output Shape              Param #   \n",
      "=================================================================\n",
      "dense_7 (Dense)              (None, 128)               12288     \n",
      "_________________________________________________________________\n",
      "dense_8 (Dense)              (None, 64)                8256      \n",
      "_________________________________________________________________\n",
      "dense_9 (Dense)              (None, 32)                2080      \n",
      "_________________________________________________________________\n",
      "dense_10 (Dense)             (None, 1)                 33        \n",
      "=================================================================\n",
      "Total params: 22,657\n",
      "Trainable params: 22,657\n",
      "Non-trainable params: 0\n",
      "_________________________________________________________________\n"
     ]
    }
   ],
   "source": [
    "model = tf.keras.Sequential([\n",
    "    layers.Dense(128, activation='relu', input_shape=(X_train.shape[1],)),\n",
    "    layers.Dense(64, activation='relu'),\n",
    "    layers.Dense(32, activation='relu'),\n",
    "    layers.Dense(1, activation='linear')\n",
    "])\n",
    "model.summary()"
   ]
  },
  {
   "cell_type": "code",
   "execution_count": 26,
   "id": "a3031a6c",
   "metadata": {},
   "outputs": [
    {
     "name": "stdout",
     "output_type": "stream",
     "text": [
      "Epoch 1/10\n",
      "52720/52720 [==============================] - 90s 2ms/step - loss: 0.4823 - val_loss: 0.4190\n",
      "Epoch 2/10\n",
      "52720/52720 [==============================] - 89s 2ms/step - loss: 0.4177 - val_loss: 0.4183\n",
      "Epoch 3/10\n",
      "52720/52720 [==============================] - 89s 2ms/step - loss: 0.4161 - val_loss: 0.4140\n",
      "Epoch 4/10\n",
      "52720/52720 [==============================] - 90s 2ms/step - loss: 0.4155 - val_loss: 0.4154\n",
      "Epoch 5/10\n",
      "52720/52720 [==============================] - 91s 2ms/step - loss: 0.4146 - val_loss: 0.4159\n",
      "Epoch 6/10\n",
      "52720/52720 [==============================] - 90s 2ms/step - loss: 0.4141 - val_loss: 0.4130\n",
      "Epoch 7/10\n",
      "52720/52720 [==============================] - 90s 2ms/step - loss: 0.4137 - val_loss: 0.4202\n",
      "Epoch 8/10\n",
      "52720/52720 [==============================] - 88s 2ms/step - loss: 0.4132 - val_loss: 0.4142\n",
      "Epoch 9/10\n",
      "52720/52720 [==============================] - 84s 2ms/step - loss: 0.4115 - val_loss: 0.4165\n",
      "Epoch 10/10\n",
      "52720/52720 [==============================] - 80s 2ms/step - loss: 0.4114 - val_loss: 0.4118\n"
     ]
    }
   ],
   "source": [
    "# Compile the model\n",
    "model.compile(optimizer='adam', loss='mean_squared_error')  # Use appropriate optimizer and loss function\n",
    "\n",
    "# Train the model\n",
    "history = model.fit(X_train, y_train, epochs=10, batch_size=32,validation_data=(X_val, y_val))  # Replace X_train and y_train with your training data"
   ]
  },
  {
   "cell_type": "code",
   "execution_count": 34,
   "id": "f1749eef",
   "metadata": {},
   "outputs": [],
   "source": [
    "predictions = model.predict(X)  # Replace X_new with new data to predict Apgar scores"
   ]
  },
  {
   "cell_type": "code",
   "execution_count": 30,
   "id": "fc693fa3",
   "metadata": {},
   "outputs": [
    {
     "name": "stdout",
     "output_type": "stream",
     "text": [
      "Mean Squared Error: 0.41\n",
      "R-squared Score: 0.21\n",
      "Explained Variance Score: 0.21\n",
      "Target function Std: 0.72\n"
     ]
    }
   ],
   "source": [
    "# Compute additional evaluation metrics\n",
    "from sklearn.metrics import mean_squared_error, r2_score, explained_variance_score\n",
    "\n",
    "# Calculate mean squared error (MSE)\n",
    "mse = mean_squared_error(y, predictions)\n",
    "\n",
    "# Calculate R-squared score\n",
    "r2 = r2_score(y, predictions)\n",
    "\n",
    "# Calculate explained variance score\n",
    "explained_variance = explained_variance_score(y, predictions)\n",
    "\n",
    "std = np.std(y)\n",
    "\n",
    "# Print the additional evaluation metrics\n",
    "print(f\"Mean Squared Error: {mse:.2f}\")\n",
    "print(f\"R-squared Score: {r2:.2f}\")\n",
    "print(f\"Explained Variance Score: {explained_variance:.2f}\")\n",
    "print(f\"Target function Std: {std:.2f}\")\n"
   ]
  },
  {
   "cell_type": "code",
   "execution_count": 28,
   "id": "c47216b7",
   "metadata": {},
   "outputs": [
    {
     "data": {
      "image/png": "[encoded data removed]",
      "text/plain": [
       "<Figure size 576x432 with 1 Axes>"
      ]
     },
     "metadata": {
      "needs_background": "light"
     },
     "output_type": "display_data"
    }
   ],
   "source": [
    "import matplotlib.pyplot as plt\n",
    "\n",
    "# Get the training and validation loss from the history object\n",
    "train_loss = history.history['loss']\n",
    "val_loss = history.history['val_loss']\n",
    "epochs = range(1, len(train_loss) + 1)\n",
    "\n",
    "# Set the figure size to 8 inches wide and 6 inches tall\n",
    "plt.figure(figsize=(8, 6))\n",
    "\n",
    "# Plot the training and validation loss\n",
    "plt.plot(epochs, train_loss, label=\"Training loss\")\n",
    "plt.plot(epochs, val_loss, label=\"Validation loss\")\n",
    "plt.title(\"Training and Validation Loss\")\n",
    "plt.xlabel(\"Epochs\")\n",
    "plt.ylabel(\"Loss\")\n",
    "plt.legend()\n",
    "plt.show()"
   ]
  },
  {
   "cell_type": "code",
   "execution_count": 30,
   "id": "cb4efa3e",
   "metadata": {},
   "outputs": [],
   "source": [
    "#model 3 - regularization "
   ]
  },
  {
   "cell_type": "code",
   "execution_count": 31,
   "id": "1593c69a",
   "metadata": {},
   "outputs": [],
   "source": [
    "from tensorflow.keras.optimizers import Adam\n"
   ]
  },
  {
   "cell_type": "code",
   "execution_count": 32,
   "id": "1d4295ec",
   "metadata": {},
   "outputs": [
    {
     "name": "stdout",
     "output_type": "stream",
     "text": [
      "Model: \"sequential_3\"\n",
      "_________________________________________________________________\n",
      "Layer (type)                 Output Shape              Param #   \n",
      "=================================================================\n",
      "dense_11 (Dense)             (None, 128)               12288     \n",
      "_________________________________________________________________\n",
      "dense_12 (Dense)             (None, 64)                8256      \n",
      "_________________________________________________________________\n",
      "dense_13 (Dense)             (None, 32)                2080      \n",
      "_________________________________________________________________\n",
      "dense_14 (Dense)             (None, 1)                 33        \n",
      "=================================================================\n",
      "Total params: 22,657\n",
      "Trainable params: 22,657\n",
      "Non-trainable params: 0\n",
      "_________________________________________________________________\n"
     ]
    }
   ],
   "source": [
    "# Define the model architecture\n",
    "model = tf.keras.Sequential([\n",
    "    layers.Dense(128, activation='relu', input_shape=(X_train.shape[1],)),\n",
    "    layers.Dense(64, activation='relu'),\n",
    "    layers.Dense(32, activation='relu'),\n",
    "    layers.Dense(1, activation='linear')\n",
    "])\n",
    "\n",
    "# Compile the model with a specific learning rate\n",
    "learning_rate = 0.0001  # Adjust the learning rate\n",
    "optimizer = Adam(learning_rate=learning_rate)\n",
    "model.compile(optimizer=optimizer, loss='mean_squared_error')\n",
    "model.summary()"
   ]
  },
  {
   "cell_type": "code",
   "execution_count": 33,
   "id": "20782e81",
   "metadata": {},
   "outputs": [
    {
     "name": "stdout",
     "output_type": "stream",
     "text": [
      "Epoch 1/10\n",
      "52720/52720 [==============================] - 90s 2ms/step - loss: 0.8196 - val_loss: 0.4362\n",
      "Epoch 2/10\n",
      "52720/52720 [==============================] - 88s 2ms/step - loss: 0.4225 - val_loss: 0.4199\n",
      "Epoch 3/10\n",
      "52720/52720 [==============================] - 88s 2ms/step - loss: 0.4161 - val_loss: 0.4161\n",
      "Epoch 4/10\n",
      "52720/52720 [==============================] - 88s 2ms/step - loss: 0.4133 - val_loss: 0.4136\n",
      "Epoch 5/10\n",
      "52720/52720 [==============================] - 87s 2ms/step - loss: 0.4112 - val_loss: 0.4133\n",
      "Epoch 6/10\n",
      "52720/52720 [==============================] - 88s 2ms/step - loss: 0.4098 - val_loss: 0.4164\n",
      "Epoch 7/10\n",
      "52720/52720 [==============================] - 89s 2ms/step - loss: 0.4086 - val_loss: 0.4123\n",
      "Epoch 8/10\n",
      "52720/52720 [==============================] - 92s 2ms/step - loss: 0.4075 - val_loss: 0.4151\n",
      "Epoch 9/10\n",
      "52720/52720 [==============================] - 88s 2ms/step - loss: 0.4066 - val_loss: 0.4149\n",
      "Epoch 10/10\n",
      "52720/52720 [==============================] - 88s 2ms/step - loss: 0.4056 - val_loss: 0.4121\n"
     ]
    }
   ],
   "source": [
    "# Train the model\n",
    "history = model.fit(X_train, y_train, epochs=10, batch_size=32, validation_data=(X_val, y_val))"
   ]
  },
  {
   "cell_type": "code",
   "execution_count": 35,
   "id": "265f7950",
   "metadata": {},
   "outputs": [],
   "source": [
    "predictions = model.predict(X)  # Replace X_new with new data to predict Apgar scores"
   ]
  },
  {
   "cell_type": "code",
   "execution_count": 39,
   "id": "edfef6ec",
   "metadata": {},
   "outputs": [
    {
     "name": "stdout",
     "output_type": "stream",
     "text": [
      "Mean Squared Error: 0.40\n",
      "R-squared Score: 0.22\n",
      "Explained Variance Score: 0.22\n",
      "Target function Std: 0.72\n"
     ]
    }
   ],
   "source": [
    "# Compute additional evaluation metrics\n",
    "from sklearn.metrics import mean_squared_error, r2_score, explained_variance_score\n",
    "\n",
    "# Calculate mean squared error (MSE)\n",
    "mse = mean_squared_error(y, predictions)\n",
    "\n",
    "# Calculate R-squared score\n",
    "r2 = r2_score(y, predictions)\n",
    "\n",
    "# Calculate explained variance score\n",
    "explained_variance = explained_variance_score(y, predictions)\n",
    "\n",
    "std = np.std(y)\n",
    "\n",
    "# Print the additional evaluation metrics\n",
    "print(f\"Mean Squared Error: {mse:.2f}\")\n",
    "print(f\"R-squared Score: {r2:.2f}\")\n",
    "print(f\"Explained Variance Score: {explained_variance:.2f}\")\n",
    "print(f\"Target function Std: {std:.2f}\")"
   ]
  },
  {
   "cell_type": "code",
   "execution_count": 40,
   "id": "ebe40662",
   "metadata": {},
   "outputs": [
    {
     "data": {
      "image/png": "[encoded data removed]",
      "text/plain": [
       "<Figure size 576x432 with 1 Axes>"
      ]
     },
     "metadata": {
      "needs_background": "light"
     },
     "output_type": "display_data"
    }
   ],
   "source": [
    "import matplotlib.pyplot as plt\n",
    "\n",
    "# Get the training and validation loss from the history object\n",
    "train_loss = history.history['loss']\n",
    "val_loss = history.history['val_loss']\n",
    "epochs = range(1, len(train_loss) + 1)\n",
    "\n",
    "# Set the figure size to 8 inches wide and 6 inches tall\n",
    "plt.figure(figsize=(8, 6))\n",
    "\n",
    "# Plot the training and validation loss\n",
    "plt.plot(epochs, train_loss, label=\"Training loss\")\n",
    "plt.plot(epochs, val_loss, label=\"Validation loss\")\n",
    "plt.title(\"Training and Validation Loss\")\n",
    "plt.xlabel(\"Epochs\")\n",
    "plt.ylabel(\"Loss\")\n",
    "plt.legend()\n",
    "plt.show()"
   ]
  },
  {
   "cell_type": "code",
   "execution_count": null,
   "id": "e67e04f1",
   "metadata": {},
   "outputs": [],
   "source": [
    "#new model 2.5 - diffrent activation functions"
   ]
  },
  {
   "cell_type": "code",
   "execution_count": 41,
   "id": "df5d2bdb",
   "metadata": {},
   "outputs": [],
   "source": [
    "from tensorflow.keras import regularizers\n",
    "from tensorflow.keras.optimizers import Adam"
   ]
  },
  {
   "cell_type": "code",
   "execution_count": 42,
   "id": "a42c9142",
   "metadata": {},
   "outputs": [
    {
     "name": "stdout",
     "output_type": "stream",
     "text": [
      "Model: \"sequential_4\"\n",
      "_________________________________________________________________\n",
      "Layer (type)                 Output Shape              Param #   \n",
      "=================================================================\n",
      "dense_15 (Dense)             (None, 128)               12288     \n",
      "_________________________________________________________________\n",
      "dense_16 (Dense)             (None, 64)                8256      \n",
      "_________________________________________________________________\n",
      "dense_17 (Dense)             (None, 32)                2080      \n",
      "_________________________________________________________________\n",
      "dense_18 (Dense)             (None, 1)                 33        \n",
      "=================================================================\n",
      "Total params: 22,657\n",
      "Trainable params: 22,657\n",
      "Non-trainable params: 0\n",
      "_________________________________________________________________\n"
     ]
    }
   ],
   "source": [
    "model = tf.keras.Sequential([\n",
    "    layers.Dense(128, activation='relu', input_shape=(X_train.shape[1],)),\n",
    "    layers.Dense(64, activation='tanh'),  # Use tanh activation function\n",
    "    layers.Dense(32, activation='sigmoid'),  # Use sigmoid activation function\n",
    "    layers.Dense(1, activation='linear')\n",
    "])\n",
    "\n",
    "# Compile the model with a specific learning rate\n",
    "learning_rate = 0.001  # Adjust the learning rate\n",
    "optimizer = Adam(learning_rate=learning_rate)\n",
    "model.compile(optimizer=optimizer, loss='mean_squared_error')\n",
    "model.summary()"
   ]
  },
  {
   "cell_type": "code",
   "execution_count": 43,
   "id": "c86e79c3",
   "metadata": {},
   "outputs": [
    {
     "name": "stdout",
     "output_type": "stream",
     "text": [
      "Epoch 1/10\n",
      "52720/52720 [==============================] - 90s 2ms/step - loss: 0.5214 - val_loss: 0.4193\n",
      "Epoch 2/10\n",
      "52720/52720 [==============================] - 90s 2ms/step - loss: 0.4144 - val_loss: 0.4216\n",
      "Epoch 3/10\n",
      "52720/52720 [==============================] - 89s 2ms/step - loss: 0.4142 - val_loss: 0.4155\n",
      "Epoch 4/10\n",
      "52720/52720 [==============================] - 90s 2ms/step - loss: 0.4151 - val_loss: 0.4164\n",
      "Epoch 5/10\n",
      "52720/52720 [==============================] - 91s 2ms/step - loss: 0.4155 - val_loss: 0.4207\n",
      "Epoch 6/10\n",
      "52720/52720 [==============================] - 90s 2ms/step - loss: 0.4149 - val_loss: 0.4156\n",
      "Epoch 7/10\n",
      "52720/52720 [==============================] - 89s 2ms/step - loss: 0.4154 - val_loss: 0.4152\n",
      "Epoch 8/10\n",
      "52720/52720 [==============================] - 89s 2ms/step - loss: 0.4170 - val_loss: 0.4179\n",
      "Epoch 9/10\n",
      "52720/52720 [==============================] - 89s 2ms/step - loss: 0.4181 - val_loss: 0.4167\n",
      "Epoch 10/10\n",
      "52720/52720 [==============================] - 88s 2ms/step - loss: 0.4177 - val_loss: 0.4174\n"
     ]
    }
   ],
   "source": [
    "# Train the model\n",
    "history = model.fit(X_train, y_train, epochs=10, batch_size=32, validation_data=(X_val, y_val))"
   ]
  },
  {
   "cell_type": "code",
   "execution_count": 44,
   "id": "f181e81b",
   "metadata": {},
   "outputs": [
    {
     "name": "stdout",
     "output_type": "stream",
     "text": [
      "Mean Squared Error: 0.42\n",
      "R-squared Score: 0.19\n",
      "Explained Variance Score: 0.19\n",
      "Target function Std: 0.72\n"
     ]
    }
   ],
   "source": [
    "# Compute additional evaluation metrics\n",
    "from sklearn.metrics import mean_squared_error, r2_score, explained_variance_score\n",
    "\n",
    "predictions = model.predict(X)  # Replace X_new with new data to predict Apgar scores\n",
    "# Compute additional evaluation metrics\n",
    "from sklearn.metrics import mean_squared_error, r2_score, explained_variance_score\n",
    "\n",
    "# Calculate mean squared error (MSE)\n",
    "mse = mean_squared_error(y, predictions)\n",
    "\n",
    "# Calculate R-squared score\n",
    "r2 = r2_score(y, predictions)\n",
    "\n",
    "# Calculate explained variance score\n",
    "explained_variance = explained_variance_score(y, predictions)\n",
    "\n",
    "std = np.std(y)\n",
    "\n",
    "# Print the additional evaluation metrics\n",
    "print(f\"Mean Squared Error: {mse:.2f}\")\n",
    "print(f\"R-squared Score: {r2:.2f}\")\n",
    "print(f\"Explained Variance Score: {explained_variance:.2f}\")\n",
    "print(f\"Target function Std: {std:.2f}\")"
   ]
  },
  {
   "cell_type": "code",
   "execution_count": 45,
   "id": "57b22b90",
   "metadata": {},
   "outputs": [
    {
     "data": {
      "image/png": "[encoded data removed]",
      "text/plain": [
       "<Figure size 576x432 with 1 Axes>"
      ]
     },
     "metadata": {
      "needs_background": "light"
     },
     "output_type": "display_data"
    }
   ],
   "source": [
    "import matplotlib.pyplot as plt\n",
    "\n",
    "# Get the training and validation loss from the history object\n",
    "train_loss = history.history['loss']\n",
    "val_loss = history.history['val_loss']\n",
    "epochs = range(1, len(train_loss) + 1)\n",
    "\n",
    "# Set the figure size to 8 inches wide and 6 inches tall\n",
    "plt.figure(figsize=(8, 6))\n",
    "\n",
    "# Plot the training and validation loss\n",
    "plt.plot(epochs, train_loss, label=\"Training loss\")\n",
    "plt.plot(epochs, val_loss, label=\"Validation loss\")\n",
    "plt.title(\"Training and Validation Loss\")\n",
    "plt.xlabel(\"Epochs\")\n",
    "plt.ylabel(\"Loss\")\n",
    "plt.legend()\n",
    "plt.show()"
   ]
  },
  {
   "cell_type": "code",
   "execution_count": null,
   "id": "70093865",
   "metadata": {},
   "outputs": [],
   "source": [
    "#model 3 regularizion"
   ]
  },
  {
   "cell_type": "code",
   "execution_count": 46,
   "id": "6faead12",
   "metadata": {},
   "outputs": [],
   "source": [
    "from tensorflow.keras import regularizers\n",
    "from tensorflow.keras.optimizers import Adam\n"
   ]
  },
  {
   "cell_type": "code",
   "execution_count": 47,
   "id": "63f416ef",
   "metadata": {},
   "outputs": [
    {
     "name": "stdout",
     "output_type": "stream",
     "text": [
      "Model: \"sequential_5\"\n",
      "_________________________________________________________________\n",
      "Layer (type)                 Output Shape              Param #   \n",
      "=================================================================\n",
      "dense_19 (Dense)             (None, 128)               12288     \n",
      "_________________________________________________________________\n",
      "dropout (Dropout)            (None, 128)               0         \n",
      "_________________________________________________________________\n",
      "dense_20 (Dense)             (None, 64)                8256      \n",
      "_________________________________________________________________\n",
      "dropout_1 (Dropout)          (None, 64)                0         \n",
      "_________________________________________________________________\n",
      "dense_21 (Dense)             (None, 32)                2080      \n",
      "_________________________________________________________________\n",
      "dense_22 (Dense)             (None, 1)                 33        \n",
      "=================================================================\n",
      "Total params: 22,657\n",
      "Trainable params: 22,657\n",
      "Non-trainable params: 0\n",
      "_________________________________________________________________\n"
     ]
    }
   ],
   "source": [
    "from tensorflow.keras import regularizers\n",
    "\n",
    "# Define the model architecture with different regularization values\n",
    "model = tf.keras.Sequential([\n",
    "    layers.Dense(128, activation='relu', input_shape=(X_train.shape[1],)),\n",
    "    layers.Dropout(0.2),\n",
    "    layers.Dense(64, activation='relu', kernel_regularizer=regularizers.l2(0.001)),  # Adjust the L2 regularization strength\n",
    "    layers.Dropout(0.2),\n",
    "    layers.Dense(32, activation='relu', kernel_regularizer=regularizers.l2(0.001)),  # Adjust the L2 regularization strength\n",
    "    layers.Dense(1, activation='linear')\n",
    "])\n",
    "\n",
    "# Compile the model\n",
    "learning_rate = 0.0001  # Adjust the learning rate\n",
    "optimizer = Adam(learning_rate=learning_rate)\n",
    "model.compile(optimizer=optimizer, loss='mean_squared_error')\n",
    "model.summary()\n"
   ]
  },
  {
   "cell_type": "code",
   "execution_count": 48,
   "id": "ce95f70f",
   "metadata": {},
   "outputs": [
    {
     "name": "stdout",
     "output_type": "stream",
     "text": [
      "Epoch 1/10\n",
      "52720/52720 [==============================] - 98s 2ms/step - loss: 1.1792 - val_loss: 0.4499\n",
      "Epoch 2/10\n",
      "52720/52720 [==============================] - 98s 2ms/step - loss: 0.4374 - val_loss: 0.4237\n",
      "Epoch 3/10\n",
      "52720/52720 [==============================] - 100s 2ms/step - loss: 0.4232 - val_loss: 0.4175\n",
      "Epoch 4/10\n",
      "52720/52720 [==============================] - 97s 2ms/step - loss: 0.4183 - val_loss: 0.4155\n",
      "Epoch 5/10\n",
      "52720/52720 [==============================] - 97s 2ms/step - loss: 0.4158 - val_loss: 0.4148\n",
      "Epoch 6/10\n",
      "52720/52720 [==============================] - 98s 2ms/step - loss: 0.4142 - val_loss: 0.4126\n",
      "Epoch 7/10\n",
      "52720/52720 [==============================] - 98s 2ms/step - loss: 0.4134 - val_loss: 0.4133\n",
      "Epoch 8/10\n",
      "52720/52720 [==============================] - 98s 2ms/step - loss: 0.4123 - val_loss: 0.4117\n",
      "Epoch 9/10\n",
      "52720/52720 [==============================] - 97s 2ms/step - loss: 0.4119 - val_loss: 0.4131\n",
      "Epoch 10/10\n",
      "52720/52720 [==============================] - 97s 2ms/step - loss: 0.4114 - val_loss: 0.4115\n"
     ]
    }
   ],
   "source": [
    "# Train the model\n",
    "history = model.fit(X_train, y_train, epochs=10, batch_size=32, validation_data=(X_val, y_val))"
   ]
  },
  {
   "cell_type": "code",
   "execution_count": 49,
   "id": "5c784de4",
   "metadata": {},
   "outputs": [],
   "source": [
    "predictions = model.predict(X)  # Replace X_new with new data to predict Apgar scores"
   ]
  },
  {
   "cell_type": "code",
   "execution_count": 50,
   "id": "ff09de0a",
   "metadata": {},
   "outputs": [
    {
     "name": "stdout",
     "output_type": "stream",
     "text": [
      "Mean Squared Error: 0.41\n",
      "R-squared Score: 0.21\n",
      "Explained Variance Score: 0.22\n",
      "Target function Std: 0.72\n"
     ]
    }
   ],
   "source": [
    "# Compute additional evaluation metrics\n",
    "from sklearn.metrics import mean_squared_error, r2_score, explained_variance_score\n",
    "\n",
    "# Calculate mean squared error (MSE)\n",
    "mse = mean_squared_error(y, predictions)\n",
    "\n",
    "# Calculate R-squared score\n",
    "r2 = r2_score(y, predictions)\n",
    "\n",
    "# Calculate explained variance score\n",
    "explained_variance = explained_variance_score(y, predictions)\n",
    "\n",
    "std = np.std(y)\n",
    "\n",
    "# Print the additional evaluation metrics\n",
    "print(f\"Mean Squared Error: {mse:.2f}\")\n",
    "print(f\"R-squared Score: {r2:.2f}\")\n",
    "print(f\"Explained Variance Score: {explained_variance:.2f}\")\n",
    "print(f\"Target function Std: {std:.2f}\")"
   ]
  },
  {
   "cell_type": "code",
   "execution_count": 51,
   "id": "8b851021",
   "metadata": {},
   "outputs": [
    {
     "data": {
      "image/png": "[encoded data removed]",
      "text/plain": [
       "<Figure size 576x432 with 1 Axes>"
      ]
     },
     "metadata": {
      "needs_background": "light"
     },
     "output_type": "display_data"
    }
   ],
   "source": [
    "import matplotlib.pyplot as plt\n",
    "\n",
    "# Get the training and validation loss from the history object\n",
    "train_loss = history.history['loss']\n",
    "val_loss = history.history['val_loss']\n",
    "epochs = range(1, len(train_loss) + 1)\n",
    "\n",
    "# Set the figure size to 8 inches wide and 6 inches tall\n",
    "plt.figure(figsize=(8, 6))\n",
    "\n",
    "# Plot the training and validation loss\n",
    "plt.plot(epochs, train_loss, label=\"Training loss\")\n",
    "plt.plot(epochs, val_loss, label=\"Validation loss\")\n",
    "plt.title(\"Training and Validation Loss\")\n",
    "plt.xlabel(\"Epochs\")\n",
    "plt.ylabel(\"Loss\")\n",
    "plt.legend()\n",
    "plt.show()"
   ]
  },
  {
   "cell_type": "code",
   "execution_count": null,
   "id": "1873ae7a",
   "metadata": {},
   "outputs": [],
   "source": [
    "#model 6 batch normalization "
   ]
  },
  {
   "cell_type": "code",
   "execution_count": 52,
   "id": "4b825698",
   "metadata": {},
   "outputs": [],
   "source": [
    "from tensorflow.keras.layers import BatchNormalization\n",
    "from tensorflow.keras.optimizers import Adam"
   ]
  },
  {
   "cell_type": "code",
   "execution_count": 53,
   "id": "f7b05c9f",
   "metadata": {},
   "outputs": [
    {
     "name": "stdout",
     "output_type": "stream",
     "text": [
      "Model: \"sequential_6\"\n",
      "_________________________________________________________________\n",
      "Layer (type)                 Output Shape              Param #   \n",
      "=================================================================\n",
      "dense_23 (Dense)             (None, 128)               12288     \n",
      "_________________________________________________________________\n",
      "dropout_2 (Dropout)          (None, 128)               0         \n",
      "_________________________________________________________________\n",
      "batch_normalization (BatchNo (None, 128)               512       \n",
      "_________________________________________________________________\n",
      "dense_24 (Dense)             (None, 64)                8256      \n",
      "_________________________________________________________________\n",
      "dropout_3 (Dropout)          (None, 64)                0         \n",
      "_________________________________________________________________\n",
      "batch_normalization_1 (Batch (None, 64)                256       \n",
      "_________________________________________________________________\n",
      "dense_25 (Dense)             (None, 32)                2080      \n",
      "_________________________________________________________________\n",
      "dense_26 (Dense)             (None, 1)                 33        \n",
      "=================================================================\n",
      "Total params: 23,425\n",
      "Trainable params: 23,041\n",
      "Non-trainable params: 384\n",
      "_________________________________________________________________\n"
     ]
    }
   ],
   "source": [
    "\n",
    "\n",
    "# Define the model architecture with batch normalization layers\n",
    "model = tf.keras.Sequential([\n",
    "    layers.Dense(128, activation='relu', input_shape=(X_train.shape[1],)),\n",
    "    layers.Dropout(0.2),\n",
    "    BatchNormalization(),\n",
    "    layers.Dense(64, activation='relu', kernel_regularizer=regularizers.l2(0.001)),\n",
    "    layers.Dropout(0.2),\n",
    "    BatchNormalization(),\n",
    "    layers.Dense(32, activation='relu', kernel_regularizer=regularizers.l2(0.001)),\n",
    "    layers.Dense(1, activation='linear')\n",
    "])\n",
    "\n",
    "# Compile the model\n",
    "learning_rate = 0.0001\n",
    "optimizer = Adam(learning_rate=learning_rate)\n",
    "model.compile(optimizer=optimizer, loss='mean_squared_error')\n",
    "\n",
    "model.summary()"
   ]
  },
  {
   "cell_type": "code",
   "execution_count": 54,
   "id": "355578e2",
   "metadata": {},
   "outputs": [
    {
     "name": "stdout",
     "output_type": "stream",
     "text": [
      "Epoch 1/10\n",
      "13180/13180 [==============================] - 45s 3ms/step - loss: 3.2106 - val_loss: 0.5441\n",
      "Epoch 2/10\n",
      "13180/13180 [==============================] - 44s 3ms/step - loss: 0.5976 - val_loss: 0.4964\n",
      "Epoch 3/10\n",
      "13180/13180 [==============================] - 44s 3ms/step - loss: 0.5385 - val_loss: 0.4730\n",
      "Epoch 4/10\n",
      "13180/13180 [==============================] - 44s 3ms/step - loss: 0.5058 - val_loss: 0.4610\n",
      "Epoch 5/10\n",
      "13180/13180 [==============================] - 44s 3ms/step - loss: 0.4829 - val_loss: 0.4511\n",
      "Epoch 6/10\n",
      "13180/13180 [==============================] - 47s 4ms/step - loss: 0.4671 - val_loss: 0.4442\n",
      "Epoch 7/10\n",
      "13180/13180 [==============================] - 44s 3ms/step - loss: 0.4555 - val_loss: 0.4376\n",
      "Epoch 8/10\n",
      "13180/13180 [==============================] - 44s 3ms/step - loss: 0.4469 - val_loss: 0.4343\n",
      "Epoch 9/10\n",
      "13180/13180 [==============================] - 44s 3ms/step - loss: 0.4408 - val_loss: 0.4323\n",
      "Epoch 10/10\n",
      "13180/13180 [==============================] - 44s 3ms/step - loss: 0.4365 - val_loss: 0.4293\n"
     ]
    }
   ],
   "source": [
    "# Train the model\n",
    "history = model.fit(X_train, y_train, epochs=10, batch_size=128, validation_data=(X_val, y_val))"
   ]
  },
  {
   "cell_type": "code",
   "execution_count": 55,
   "id": "bcc4e7fa",
   "metadata": {},
   "outputs": [],
   "source": [
    "predictions = model.predict(X)  # Replace X_new with new data to predict Apgar scores"
   ]
  },
  {
   "cell_type": "code",
   "execution_count": 56,
   "id": "7a1c802a",
   "metadata": {},
   "outputs": [
    {
     "name": "stdout",
     "output_type": "stream",
     "text": [
      "Mean Squared Error: 0.41\n",
      "R-squared Score: 0.20\n",
      "Explained Variance Score: 0.20\n",
      "Target function Std: 0.72\n"
     ]
    }
   ],
   "source": [
    "# Compute additional evaluation metrics\n",
    "from sklearn.metrics import mean_squared_error, r2_score, explained_variance_score\n",
    "\n",
    "# Calculate mean squared error (MSE)\n",
    "mse = mean_squared_error(y, predictions)\n",
    "\n",
    "# Calculate R-squared score\n",
    "r2 = r2_score(y, predictions)\n",
    "\n",
    "# Calculate explained variance score\n",
    "explained_variance = explained_variance_score(y, predictions)\n",
    "\n",
    "std = np.std(y)\n",
    "\n",
    "# Print the additional evaluation metrics\n",
    "print(f\"Mean Squared Error: {mse:.2f}\")\n",
    "print(f\"R-squared Score: {r2:.2f}\")\n",
    "print(f\"Explained Variance Score: {explained_variance:.2f}\")\n",
    "print(f\"Target function Std: {std:.2f}\")"
   ]
  },
  {
   "cell_type": "code",
   "execution_count": 57,
   "id": "c12d090a",
   "metadata": {},
   "outputs": [
    {
     "data": {
      "image/png": "[encoded data removed]",
      "text/plain": [
       "<Figure size 576x432 with 1 Axes>"
      ]
     },
     "metadata": {
      "needs_background": "light"
     },
     "output_type": "display_data"
    }
   ],
   "source": [
    "import matplotlib.pyplot as plt\n",
    "\n",
    "# Get the training and validation loss from the history object\n",
    "train_loss = history.history['loss']\n",
    "val_loss = history.history['val_loss']\n",
    "epochs = range(1, len(train_loss) + 1)\n",
    "\n",
    "# Set the figure size to 8 inches wide and 6 inches tall\n",
    "plt.figure(figsize=(8, 6))\n",
    "\n",
    "# Plot the training and validation loss\n",
    "plt.plot(epochs, train_loss, label=\"Training loss\")\n",
    "plt.plot(epochs, val_loss, label=\"Validation loss\")\n",
    "plt.title(\"Training and Validation Loss\")\n",
    "plt.xlabel(\"Epochs\")\n",
    "plt.ylabel(\"Loss\")\n",
    "plt.legend()\n",
    "plt.show()"
   ]
  },
  {
   "cell_type": "code",
   "execution_count": 58,
   "id": "93d5f7b3",
   "metadata": {},
   "outputs": [],
   "source": [
    "#model 7 different activation functions"
   ]
  },
  {
   "cell_type": "code",
   "execution_count": 59,
   "id": "485c4161",
   "metadata": {},
   "outputs": [],
   "source": [
    "from tensorflow.keras.layers import Activation\n"
   ]
  },
  {
   "cell_type": "code",
   "execution_count": 60,
   "id": "234566e8",
   "metadata": {},
   "outputs": [
    {
     "name": "stdout",
     "output_type": "stream",
     "text": [
      "Model: \"sequential_7\"\n",
      "_________________________________________________________________\n",
      "Layer (type)                 Output Shape              Param #   \n",
      "=================================================================\n",
      "dense_27 (Dense)             (None, 128)               12288     \n",
      "_________________________________________________________________\n",
      "dense_28 (Dense)             (None, 64)                8256      \n",
      "_________________________________________________________________\n",
      "dense_29 (Dense)             (None, 32)                2080      \n",
      "_________________________________________________________________\n",
      "dense_30 (Dense)             (None, 1)                 33        \n",
      "=================================================================\n",
      "Total params: 22,657\n",
      "Trainable params: 22,657\n",
      "Non-trainable params: 0\n",
      "_________________________________________________________________\n"
     ]
    }
   ],
   "source": [
    "# Define the model architecture\n",
    "\n",
    "model = tf.keras.Sequential([\n",
    "    layers.Dense(128, activation='relu', input_shape=(X_train.shape[1],)),\n",
    "    layers.Dense(64, activation='tanh'),  # Use tanh activation function\n",
    "    layers.Dense(32, activation='sigmoid'),  # Use sigmoid activation function\n",
    "    layers.Dense(1, activation='linear')\n",
    "])\n",
    "\n",
    "# Compile the model with a specific learning rate\n",
    "learning_rate = 0.001  # Adjust the learning rate\n",
    "optimizer = Adam(learning_rate=learning_rate)\n",
    "model.compile(optimizer=optimizer, loss='mean_squared_error')\n",
    "model.summary()"
   ]
  },
  {
   "cell_type": "code",
   "execution_count": 61,
   "id": "722414f6",
   "metadata": {},
   "outputs": [
    {
     "name": "stdout",
     "output_type": "stream",
     "text": [
      "Epoch 1/10\n",
      "52720/52720 [==============================] - 88s 2ms/step - loss: 0.4796 - val_loss: 0.4144\n",
      "Epoch 2/10\n",
      "52720/52720 [==============================] - 87s 2ms/step - loss: 0.4139 - val_loss: 0.4172\n",
      "Epoch 3/10\n",
      "52720/52720 [==============================] - 86s 2ms/step - loss: 0.4138 - val_loss: 0.4168\n",
      "Epoch 4/10\n",
      "52720/52720 [==============================] - 86s 2ms/step - loss: 0.4143 - val_loss: 0.4174\n",
      "Epoch 5/10\n",
      "52720/52720 [==============================] - 86s 2ms/step - loss: 0.4141 - val_loss: 0.4145\n",
      "Epoch 6/10\n",
      "52720/52720 [==============================] - 85s 2ms/step - loss: 0.4146 - val_loss: 0.4154\n",
      "Epoch 7/10\n",
      "52720/52720 [==============================] - 85s 2ms/step - loss: 0.4146 - val_loss: 0.4161\n",
      "Epoch 8/10\n",
      "52720/52720 [==============================] - 87s 2ms/step - loss: 0.4166 - val_loss: 0.4240\n",
      "Epoch 9/10\n",
      "52720/52720 [==============================] - 86s 2ms/step - loss: 0.4182 - val_loss: 0.4201\n",
      "Epoch 10/10\n",
      "52720/52720 [==============================] - 86s 2ms/step - loss: 0.4182 - val_loss: 0.4195\n"
     ]
    }
   ],
   "source": [
    "history = model.fit(X_train, y_train, epochs=10, batch_size=32, validation_data=(X_val, y_val))"
   ]
  },
  {
   "cell_type": "code",
   "execution_count": 62,
   "id": "e35e3a52",
   "metadata": {},
   "outputs": [],
   "source": [
    "predictions = model.predict(X)  # Replace X_new with new data to predict Apgar scores"
   ]
  },
  {
   "cell_type": "code",
   "execution_count": 63,
   "id": "695a4b0f",
   "metadata": {},
   "outputs": [],
   "source": [
    "import numpy as np"
   ]
  },
  {
   "cell_type": "code",
   "execution_count": 64,
   "id": "64db3c00",
   "metadata": {},
   "outputs": [
    {
     "name": "stdout",
     "output_type": "stream",
     "text": [
      "Mean Squared Error: 0.42\n",
      "R-squared Score: 0.19\n",
      "Explained Variance Score: 0.19\n",
      "Target function Std: 0.72\n"
     ]
    }
   ],
   "source": [
    "# Compute additional evaluation metrics\n",
    "from sklearn.metrics import mean_squared_error, r2_score, explained_variance_score\n",
    "\n",
    "# Calculate mean squared error (MSE)\n",
    "mse = mean_squared_error(y, predictions)\n",
    "\n",
    "# Calculate R-squared score\n",
    "r2 = r2_score(y, predictions)\n",
    "\n",
    "# Calculate explained variance score\n",
    "explained_variance = explained_variance_score(y, predictions)\n",
    "\n",
    "std = np.std(y)\n",
    "\n",
    "# Print the additional evaluation metrics\n",
    "print(f\"Mean Squared Error: {mse:.2f}\")\n",
    "print(f\"R-squared Score: {r2:.2f}\")\n",
    "print(f\"Explained Variance Score: {explained_variance:.2f}\")\n",
    "print(f\"Target function Std: {std:.2f}\")"
   ]
  },
  {
   "cell_type": "code",
   "execution_count": 65,
   "id": "060cc54b",
   "metadata": {},
   "outputs": [
    {
     "data": {
      "image/png": "[encoded data removed]",
      "text/plain": [
       "<Figure size 576x432 with 1 Axes>"
      ]
     },
     "metadata": {
      "needs_background": "light"
     },
     "output_type": "display_data"
    }
   ],
   "source": [
    "import matplotlib.pyplot as plt\n",
    "\n",
    "# Get the training and validation loss from the history object\n",
    "train_loss = history.history['loss']\n",
    "val_loss = history.history['val_loss']\n",
    "epochs = range(1, len(train_loss) + 1)\n",
    "\n",
    "# Set the figure size to 8 inches wide and 6 inches tall\n",
    "plt.figure(figsize=(8, 6))\n",
    "\n",
    "# Plot the training and validation loss\n",
    "plt.plot(epochs, train_loss, label=\"Training loss\")\n",
    "plt.plot(epochs, val_loss, label=\"Validation loss\")\n",
    "plt.title(\"Training and Validation Loss\")\n",
    "plt.xlabel(\"Epochs\")\n",
    "plt.ylabel(\"Loss\")\n",
    "plt.legend()\n",
    "plt.show()"
   ]
  },
  {
   "cell_type": "code",
   "execution_count": null,
   "id": "c31121c9",
   "metadata": {},
   "outputs": [],
   "source": [
    "#better results with this architecture"
   ]
  },
  {
   "cell_type": "code",
   "execution_count": null,
   "id": "073e479b",
   "metadata": {},
   "outputs": [],
   "source": [
    "#adding more layers to this model"
   ]
  },
  {
   "cell_type": "code",
   "execution_count": 66,
   "id": "ded0436c",
   "metadata": {},
   "outputs": [
    {
     "name": "stdout",
     "output_type": "stream",
     "text": [
      "Model: \"sequential_8\"\n",
      "_________________________________________________________________\n",
      "Layer (type)                 Output Shape              Param #   \n",
      "=================================================================\n",
      "dense_31 (Dense)             (None, 128)               12288     \n",
      "_________________________________________________________________\n",
      "dense_32 (Dense)             (None, 64)                8256      \n",
      "_________________________________________________________________\n",
      "dense_33 (Dense)             (None, 32)                2080      \n",
      "_________________________________________________________________\n",
      "dense_34 (Dense)             (None, 16)                528       \n",
      "_________________________________________________________________\n",
      "dense_35 (Dense)             (None, 8)                 136       \n",
      "_________________________________________________________________\n",
      "dense_36 (Dense)             (None, 1)                 9         \n",
      "=================================================================\n",
      "Total params: 23,297\n",
      "Trainable params: 23,297\n",
      "Non-trainable params: 0\n",
      "_________________________________________________________________\n"
     ]
    }
   ],
   "source": [
    "# Define the model architecture with additional layers\n",
    "model = tf.keras.Sequential([\n",
    "    layers.Dense(128, activation='relu', input_shape=(X_train.shape[1],)),\n",
    "    layers.Dense(64, activation='tanh'),  # Use tanh activation function\n",
    "    layers.Dense(32, activation='sigmoid'),  # Use sigmoid activation function\n",
    "    layers.Dense(16, activation='relu'),  # Additional dense layer with relu activation\n",
    "    layers.Dense(8, activation='relu'),  # Additional dense layer with relu activation\n",
    "    layers.Dense(1, activation='linear')\n",
    "])\n",
    "\n",
    "# Compile the model with a specific learning rate\n",
    "learning_rate = 0.001  # Adjust the learning rate\n",
    "optimizer = Adam(learning_rate=learning_rate)\n",
    "model.compile(optimizer=optimizer, loss='mean_squared_error')\n",
    "model.summary()\n"
   ]
  },
  {
   "cell_type": "code",
   "execution_count": 67,
   "id": "b5151e2a",
   "metadata": {},
   "outputs": [
    {
     "name": "stdout",
     "output_type": "stream",
     "text": [
      "Epoch 1/10\n",
      "52720/52720 [==============================] - 99s 2ms/step - loss: 0.5296 - val_loss: 0.4175\n",
      "Epoch 2/10\n",
      "52720/52720 [==============================] - 98s 2ms/step - loss: 0.4159 - val_loss: 0.4179\n",
      "Epoch 3/10\n",
      "52720/52720 [==============================] - 98s 2ms/step - loss: 0.4157 - val_loss: 0.4136\n",
      "Epoch 4/10\n",
      "52720/52720 [==============================] - 98s 2ms/step - loss: 0.4155 - val_loss: 0.4172\n",
      "Epoch 5/10\n",
      "52720/52720 [==============================] - 97s 2ms/step - loss: 0.4156 - val_loss: 0.4164\n",
      "Epoch 6/10\n",
      "52720/52720 [==============================] - 97s 2ms/step - loss: 0.4165 - val_loss: 0.4154\n",
      "Epoch 7/10\n",
      "52720/52720 [==============================] - 97s 2ms/step - loss: 0.4166 - val_loss: 0.4163\n",
      "Epoch 8/10\n",
      "52720/52720 [==============================] - 96s 2ms/step - loss: 0.4170 - val_loss: 0.4149\n",
      "Epoch 9/10\n",
      "52720/52720 [==============================] - 96s 2ms/step - loss: 0.4177 - val_loss: 0.4227\n",
      "Epoch 10/10\n",
      "52720/52720 [==============================] - 96s 2ms/step - loss: 0.4184 - val_loss: 0.4172\n"
     ]
    }
   ],
   "source": [
    "history = model.fit(X_train, y_train, epochs=10, batch_size=32, validation_data=(X_val, y_val))"
   ]
  },
  {
   "cell_type": "code",
   "execution_count": 68,
   "id": "8e0e8960",
   "metadata": {},
   "outputs": [],
   "source": [
    "predictions = model.predict(X)  # Replace X_new with new data to predict Apgar scores"
   ]
  },
  {
   "cell_type": "code",
   "execution_count": 69,
   "id": "37391cfa",
   "metadata": {},
   "outputs": [
    {
     "name": "stdout",
     "output_type": "stream",
     "text": [
      "Mean Squared Error: 0.42\n",
      "R-squared Score: 0.19\n",
      "Explained Variance Score: 0.19\n",
      "Target function Std: 0.72\n"
     ]
    }
   ],
   "source": [
    "# Compute additional evaluation metrics\n",
    "from sklearn.metrics import mean_squared_error, r2_score, explained_variance_score\n",
    "\n",
    "# Calculate mean squared error (MSE)\n",
    "mse = mean_squared_error(y, predictions)\n",
    "\n",
    "# Calculate R-squared score\n",
    "r2 = r2_score(y, predictions)\n",
    "\n",
    "# Calculate explained variance score\n",
    "explained_variance = explained_variance_score(y, predictions)\n",
    "std = np.std(y)\n",
    "\n",
    "# Print the additional evaluation metrics\n",
    "print(f\"Mean Squared Error: {mse:.2f}\")\n",
    "print(f\"R-squared Score: {r2:.2f}\")\n",
    "\n",
    "print(f\"Explained Variance Score: {explained_variance:.2f}\")\n",
    "print(f\"Target function Std: {std:.2f}\")"
   ]
  },
  {
   "cell_type": "code",
   "execution_count": 70,
   "id": "4b17265e",
   "metadata": {},
   "outputs": [
    {
     "data": {
      "image/png": "[encoded data removed]",
      "text/plain": [
       "<Figure size 576x432 with 1 Axes>"
      ]
     },
     "metadata": {
      "needs_background": "light"
     },
     "output_type": "display_data"
    }
   ],
   "source": [
    "import matplotlib.pyplot as plt\n",
    "\n",
    "# Get the training and validation loss from the history object\n",
    "train_loss = history.history['loss']\n",
    "val_loss = history.history['val_loss']\n",
    "epochs = range(1, len(train_loss) + 1)\n",
    "\n",
    "# Set the figure size to 8 inches wide and 6 inches tall\n",
    "plt.figure(figsize=(8, 6))\n",
    "\n",
    "# Plot the training and validation loss\n",
    "plt.plot(epochs, train_loss, label=\"Training loss\")\n",
    "plt.plot(epochs, val_loss, label=\"Validation loss\")\n",
    "plt.title(\"Training and Validation Loss\")\n",
    "plt.xlabel(\"Epochs\")\n",
    "plt.ylabel(\"Loss\")\n",
    "plt.legend()\n",
    "plt.show()"
   ]
  },
  {
   "cell_type": "code",
   "execution_count": null,
   "id": "15a3d1bf",
   "metadata": {},
   "outputs": [],
   "source": [
    "# model 3 has to best preformce so far, now will fine tune model 3"
   ]
  },
  {
   "cell_type": "code",
   "execution_count": 76,
   "id": "180dd707",
   "metadata": {},
   "outputs": [
    {
     "name": "stdout",
     "output_type": "stream",
     "text": [
      "Model: \"sequential_10\"\n",
      "_________________________________________________________________\n",
      "Layer (type)                 Output Shape              Param #   \n",
      "=================================================================\n",
      "dense_41 (Dense)             (None, 128)               12288     \n",
      "_________________________________________________________________\n",
      "dense_42 (Dense)             (None, 64)                8256      \n",
      "_________________________________________________________________\n",
      "dense_43 (Dense)             (None, 32)                2080      \n",
      "_________________________________________________________________\n",
      "dense_44 (Dense)             (None, 1)                 33        \n",
      "=================================================================\n",
      "Total params: 22,657\n",
      "Trainable params: 22,657\n",
      "Non-trainable params: 0\n",
      "_________________________________________________________________\n"
     ]
    }
   ],
   "source": [
    "# Define the model architecture\n",
    "model = tf.keras.Sequential([\n",
    "    layers.Dense(128, activation='relu', input_shape=(X_train.shape[1],)),\n",
    "    layers.Dense(64, activation='relu'),\n",
    "    layers.Dense(32, activation='relu'),\n",
    "    layers.Dense(1, activation='linear')\n",
    "])\n",
    "\n",
    "# Compile the model with a specific learning rate\n",
    "learning_rate = 0.0001  # Adjust the learning rate\n",
    "optimizer = Adam(learning_rate=learning_rate)\n",
    "model.compile(optimizer=optimizer, loss='mean_squared_error')\n",
    "model.summary()"
   ]
  },
  {
   "cell_type": "code",
   "execution_count": 77,
   "id": "6de17af5",
   "metadata": {},
   "outputs": [
    {
     "name": "stdout",
     "output_type": "stream",
     "text": [
      "Epoch 1/10\n",
      "26360/26360 [==============================] - 47s 2ms/step - loss: 0.9817 - val_loss: 0.4367\n",
      "Epoch 2/10\n",
      "26360/26360 [==============================] - 46s 2ms/step - loss: 0.4277 - val_loss: 0.4286\n",
      "Epoch 3/10\n",
      "26360/26360 [==============================] - 47s 2ms/step - loss: 0.4188 - val_loss: 0.4178\n",
      "Epoch 4/10\n",
      "26360/26360 [==============================] - 47s 2ms/step - loss: 0.4148 - val_loss: 0.4186\n",
      "Epoch 5/10\n",
      "26360/26360 [==============================] - 47s 2ms/step - loss: 0.4094 - val_loss: 0.4134\n",
      "Epoch 8/10\n",
      "26360/26360 [==============================] - 47s 2ms/step - loss: 0.4085 - val_loss: 0.4131\n",
      "Epoch 9/10\n",
      "26360/26360 [==============================] - 47s 2ms/step - loss: 0.4074 - val_loss: 0.4126\n",
      "Epoch 10/10\n",
      "26360/26360 [==============================] - 47s 2ms/step - loss: 0.4066 - val_loss: 0.4135\n"
     ]
    }
   ],
   "source": [
    "# Train the model\n",
    "history = model.fit(X_train, y_train, epochs=10, batch_size=64, validation_data=(X_val, y_val))"
   ]
  },
  {
   "cell_type": "code",
   "execution_count": 78,
   "id": "15beae5e",
   "metadata": {},
   "outputs": [],
   "source": [
    "predictions = model.predict(X)  # Replace X_new with new data to predict Apgar scores"
   ]
  },
  {
   "cell_type": "code",
   "execution_count": 79,
   "id": "a074df16",
   "metadata": {},
   "outputs": [
    {
     "name": "stdout",
     "output_type": "stream",
     "text": [
      "Mean Squared Error: 0.41\n",
      "R-squared Score: 0.21\n",
      "Explained Variance Score: 0.22\n",
      "Target function Std: 0.72\n"
     ]
    }
   ],
   "source": [
    "# Compute additional evaluation metrics\n",
    "from sklearn.metrics import mean_squared_error, r2_score, explained_variance_score\n",
    "\n",
    "# Calculate mean squared error (MSE)\n",
    "mse = mean_squared_error(y, predictions)\n",
    "\n",
    "# Calculate R-squared score\n",
    "r2 = r2_score(y, predictions)\n",
    "\n",
    "# Calculate explained variance score\n",
    "explained_variance = explained_variance_score(y, predictions)\n",
    "\n",
    "std = np.std(y)\n",
    "\n",
    "# Print the additional evaluation metrics\n",
    "print(f\"Mean Squared Error: {mse:.2f}\")\n",
    "print(f\"R-squared Score: {r2:.2f}\")\n",
    "print(f\"Explained Variance Score: {explained_variance:.2f}\")\n",
    "print(f\"Target function Std: {std:.2f}\")"
   ]
  },
  {
   "cell_type": "code",
   "execution_count": 80,
   "id": "377b1d6a",
   "metadata": {},
   "outputs": [
    {
     "data": {
      "image/png": "[encoded data removed]",
      "text/plain": [
       "<Figure size 576x432 with 1 Axes>"
      ]
     },
     "metadata": {
      "needs_background": "light"
     },
     "output_type": "display_data"
    }
   ],
   "source": [
    "import matplotlib.pyplot as plt\n",
    "\n",
    "# Get the training and validation loss from the history object\n",
    "train_loss = history.history['loss']\n",
    "val_loss = history.history['val_loss']\n",
    "epochs = range(1, len(train_loss) + 1)\n",
    "\n",
    "# Set the figure size to 8 inches wide and 6 inches tall\n",
    "plt.figure(figsize=(8, 6))\n",
    "\n",
    "# Plot the training and validation loss\n",
    "plt.plot(epochs, train_loss, label=\"Training loss\")\n",
    "plt.plot(epochs, val_loss, label=\"Validation loss\")\n",
    "plt.title(\"Training and Validation Loss\")\n",
    "plt.xlabel(\"Epochs\")\n",
    "plt.ylabel(\"Loss\")\n",
    "plt.legend()\n",
    "plt.show()"
   ]
  }
 ],
 "metadata": {
  "kernelspec": {
   "display_name": "Python 3",
   "language": "python",
   "name": "python3"
  },
  "language_info": {
   "codemirror_mode": {
    "name": "ipython",
    "version": 3
   },
   "file_extension": ".py",
   "mimetype": "text/x-python",
   "name": "python",
   "nbconvert_exporter": "python",
   "pygments_lexer": "ipython3",
   "version": "3.6.9"
  }
 },
 "nbformat": 4,
 "nbformat_minor": 5
}
